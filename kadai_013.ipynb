{
  "nbformat": 4,
  "nbformat_minor": 0,
  "metadata": {
    "colab": {
      "provenance": [],
      "authorship_tag": "ABX9TyOtONSS5PEjcS4S+zznsYXr"
    },
    "kernelspec": {
      "name": "python3",
      "display_name": "Python 3"
    },
    "language_info": {
      "name": "python"
    }
  },
  "cells": [
    {
      "cell_type": "code",
      "source": [],
      "metadata": {
        "id": "sWNan0jtdpNA"
      },
      "execution_count": null,
      "outputs": []
    },
    {
      "cell_type": "code",
      "execution_count": 7,
      "metadata": {
        "colab": {
          "base_uri": "https://localhost:8080/"
        },
        "id": "tCUUuwb-JA4v",
        "outputId": "1cc953f4-ffc9-4182-e21c-e67b3fcc1c94"
      },
      "outputs": [
        {
          "output_type": "stream",
          "name": "stdout",
          "text": [
            "2200.0\n"
          ]
        }
      ],
      "source": [
        "def add_two_arguments(price, shipping_fee):\n",
        "  total = price * (1 + shipping_fee / 100)\n",
        "  return total\n",
        "\n",
        "sum = add_two_arguments(2000,10)\n",
        "\n",
        "print(sum)"
      ]
    }
  ]
}