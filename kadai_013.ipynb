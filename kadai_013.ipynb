{
  "nbformat": 4,
  "nbformat_minor": 0,
  "metadata": {
    "colab": {
      "provenance": [],
      "authorship_tag": "ABX9TyOqxMEGBoMY7Ir7Kkzn7P0O"
    },
    "kernelspec": {
      "name": "python3",
      "display_name": "Python 3"
    },
    "language_info": {
      "name": "python"
    }
  },
  "cells": [
    {
      "cell_type": "code",
      "execution_count": 21,
      "metadata": {
        "colab": {
          "base_uri": "https://localhost:8080/"
        },
        "id": "tCUUuwb-JA4v",
        "outputId": "1fe39a72-abbc-4692-8e27-608a1d3da317"
      },
      "outputs": [
        {
          "output_type": "stream",
          "name": "stdout",
          "text": [
            "2200.0円\n"
          ]
        }
      ],
      "source": [
        "def add_two_arguments(price, shipping_fee):\n",
        "  total = price * (1 + shipping_fee / 100)\n",
        "\n",
        "  print(f\"{total}円\")\n",
        "\n",
        "add_two_arguments(2000,10)"
      ]
    }
  ]
}