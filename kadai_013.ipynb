{
  "nbformat": 4,
  "nbformat_minor": 0,
  "metadata": {
    "colab": {
      "provenance": [],
      "authorship_tag": "ABX9TyOkzgG8EmFGAfP3V3lqFrRa"
    },
    "kernelspec": {
      "name": "python3",
      "display_name": "Python 3"
    },
    "language_info": {
      "name": "python"
    }
  },
  "cells": [
    {
      "cell_type": "code",
      "execution_count": 2,
      "metadata": {
        "colab": {
          "base_uri": "https://localhost:8080/"
        },
        "id": "tCUUuwb-JA4v",
        "outputId": "19556e2c-dfba-4809-de10-48c5be87199d"
      },
      "outputs": [
        {
          "output_type": "execute_result",
          "data": {
            "text/plain": [
              "2200.0"
            ]
          },
          "metadata": {},
          "execution_count": 2
        }
      ],
      "source": [
        "def add_two_arguments(price, shipping_fee):\n",
        "  total = price * (1 + shipping_fee / 100)\n",
        "\n",
        "  return total\n",
        "\n",
        "add_two_arguments(2000,10)"
      ]
    }
  ]
}