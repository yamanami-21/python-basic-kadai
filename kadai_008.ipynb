{
  "nbformat": 4,
  "nbformat_minor": 0,
  "metadata": {
    "colab": {
      "provenance": [],
      "authorship_tag": "ABX9TyPpm5w6h8WrEKvLcMPq+ja+"
    },
    "kernelspec": {
      "name": "python3",
      "display_name": "Python 3"
    },
    "language_info": {
      "name": "python"
    }
  },
  "cells": [
    {
      "cell_type": "code",
      "execution_count": null,
      "metadata": {
        "id": "-qUoP9wuqcbK"
      },
      "outputs": [],
      "source": []
    },
    {
      "cell_type": "code",
      "source": [
        "import random\n",
        "num = random.randint(0,100)\n",
        "print(num)\n",
        "\n",
        "if num % 15 == 0:\n",
        "  print(\"FizzBuzz\")\n",
        "\n",
        "elif num % 3 == 0:\n",
        "  print(\"Fizz\")\n",
        "\n",
        "elif num % 5 == 0:\n",
        "  print(\"Buzz\")\n",
        "\n",
        "else:\n",
        "  print(num)"
      ],
      "metadata": {
        "colab": {
          "base_uri": "https://localhost:8080/"
        },
        "id": "YgnPvkIukosR",
        "outputId": "76446725-d03f-433a-f61e-a48a111f1248"
      },
      "execution_count": null,
      "outputs": [
        {
          "output_type": "stream",
          "name": "stdout",
          "text": [
            "38\n",
            "38\n"
          ]
        }
      ]
    }
  ]
}