{
  "nbformat": 4,
  "nbformat_minor": 0,
  "metadata": {
    "colab": {
      "provenance": [],
      "authorship_tag": "ABX9TyNpwlaYI47uji/u8u9CBhuP"
    },
    "kernelspec": {
      "name": "python3",
      "display_name": "Python 3"
    },
    "language_info": {
      "name": "python"
    }
  },
  "cells": [
    {
      "cell_type": "code",
      "execution_count": 37,
      "metadata": {
        "colab": {
          "base_uri": "https://localhost:8080/"
        },
        "id": "5r5c3e-0Ao6R",
        "outputId": "796716e2-47fd-450f-bb1e-714b3df125b4"
      },
      "outputs": [
        {
          "output_type": "stream",
          "name": "stdout",
          "text": [
            "太郎は大人ではありません\n",
            "二郎は大人ではありません\n",
            "三郎は大人です\n",
            "四郎は大人です\n",
            "五郎は大人です\n"
          ]
        }
      ],
      "source": [
        "class Human:\n",
        "  def __init__(self, name, age):\n",
        "    self.name = name\n",
        "    self.age = age\n",
        "\n",
        "  def check_adult(self):\n",
        "    if self.age >= 20:\n",
        "      print(f\"{self.name}は大人です\")\n",
        "    else:\n",
        "      print(f\"{self.name}は大人ではありません\")\n",
        "\n",
        "list = [Human(\"太郎\", 16), Human(\"二郎\", 18), Human(\"三郎\", 20), Human(\"四郎\", 22), Human(\"五郎\", 24)]\n",
        "\n",
        "for human in list:\n",
        "    human.check_adult()"
      ]
    }
  ]
}